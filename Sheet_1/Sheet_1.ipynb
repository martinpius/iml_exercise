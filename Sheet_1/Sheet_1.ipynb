{
 "cells": [
  {
   "cell_type": "markdown",
   "id": "10758e62",
   "metadata": {},
   "source": [
    "# Interpretable Machine Learning\n",
    "## Exercise Sheet: 1\n",
    "## This exercise sheet covers chapters 2-3 from the IML book by Christoph Molnar\n",
    "\n",
    "Kristin Blesch (blesch@leibniz-bips.de)<br>\n",
    "Niklas Koenen (koenen@leibniz-bips.de)\n",
    "<hr style=\"border:1.5px solid gray\"> </hr>"
   ]
  },
  {
   "cell_type": "markdown",
   "id": "cebd48f8",
   "metadata": {},
   "source": [
    "# 1) Interpretable Machine Learning (IML) basics\n",
    "\n",
    "## a) What is IML about?\n",
    "Describe the meaning of interpretable machine learning in your own words. You might find the definitions given in the book a useful source of inspiration.\n",
    "\n",
    "**Interpretable Machine Learning is the subject which focuses on drawing  insights from a supervised machine learning models. The idea is to unmask the black-box and make the models truth-worthy \
by providing surportive details concerning the outputs of the model. Several techniqes are blended together to describes the general and local overview concerning \
model's performance. Examples of techniques employed include training models that are directly interpretable like linear models and decision trees or\
applying model diagnostic tools such as evaluation of variable importance:**"
    
   ]
  },
  {
   "cell_type": "markdown",
   "id": "7cb2537b",
   "metadata": {},
   "source": [
    "<span style=\"color:#AAAEBC\"> - your solution here - </span>"
   ]
  },
  {
   "cell_type": "markdown",
   "id": "7f9aff3a",
   "metadata": {},
   "source": [
    "## b) Why does interpretablility matter?\n",
    "Give reasons why interpretability matters for constructing a machine learning model and its subsequent application to real world use cases.\n",
    "\n",
    "**Solution:**"
   ]
  },
  {
   "cell_type": "markdown",
   "id": "98786efd",
   "metadata": {},
   "source": [
    "<span style=\"color:#AAAEBC\"> - your solution here - </span>"
   ]
  },
  {
   "cell_type": "markdown",
   "id": "06de16ea",
   "metadata": {},
   "source": [
    "# 2) A more granular view on IML\n",
    "\n",
    "## a) Explain the difference between model-specific and model-agnostic IML methods.\n",
    "\n",
    "**Solution:**"
   ]
  },
  {
   "cell_type": "markdown",
   "id": "56928ccd",
   "metadata": {},
   "source": [
    "<span style=\"color:#AAAEBC\"> - your solution here - </span>"
   ]
  },
  {
   "cell_type": "markdown",
   "id": "eef9619d",
   "metadata": {},
   "source": [
    "## b) Contrast global and local model interpretability methods: What kind of explanations do they aim for? \n",
    "\n",
    "**Solution:**"
   ]
  },
  {
   "cell_type": "markdown",
   "id": "7ebcc556",
   "metadata": {},
   "source": [
    "<span style=\"color:#AAAEBC\"> - your solution here - </span>"
   ]
  },
  {
   "cell_type": "markdown",
   "id": "03750e52",
   "metadata": {},
   "source": [
    "# 3) The human factor\n",
    "Describe how good IML explanations should be designed such that they are easy to grasp for human beings. \n",
    "\n",
    "Bonus discussion: Do you - as a human being yourself - agree with the aspects listed in the book?\n",
    "\n",
    "**Solution:**"
   ]
  },
  {
   "cell_type": "markdown",
   "id": "4aae77b9",
   "metadata": {},
   "source": [
    "<span style=\"color:#AAAEBC\"> - your solution here - </span>"
   ]
  }
 ],
 "metadata": {
  "kernelspec": {
   "display_name": "Python 3 (ipykernel)",
   "language": "python",
   "name": "python3"
  },
  "language_info": {
   "codemirror_mode": {
    "name": "ipython",
    "version": 3
   },
   "file_extension": ".py",
   "mimetype": "text/x-python",
   "name": "python",
   "nbconvert_exporter": "python",
   "pygments_lexer": "ipython3",
   "version": "3.8.8"
  }
 },
 "nbformat": 4,
 "nbformat_minor": 5
}
