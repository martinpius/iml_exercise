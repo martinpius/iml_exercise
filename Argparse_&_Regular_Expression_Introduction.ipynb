{
  "nbformat": 4,
  "nbformat_minor": 0,
  "metadata": {
    "colab": {
      "name": "Argparse & Regular Expression  -Introduction",
      "provenance": [],
      "authorship_tag": "ABX9TyO+mVpe/WmQ+3BaQI87w1vU",
      "include_colab_link": true
    },
    "kernelspec": {
      "name": "python3",
      "display_name": "Python 3"
    },
    "language_info": {
      "name": "python"
    }
  },
  "cells": [
    {
      "cell_type": "markdown",
      "metadata": {
        "id": "view-in-github",
        "colab_type": "text"
      },
      "source": [
        "<a href=\"https://colab.research.google.com/github/martinpius/iml_exercise/blob/main/Argparse_%26_Regular_Expression_Introduction.ipynb\" target=\"_parent\"><img src=\"https://colab.research.google.com/assets/colab-badge.svg\" alt=\"Open In Colab\"/></a>"
      ]
    },
    {
      "cell_type": "code",
      "execution_count": 1,
      "metadata": {
        "colab": {
          "base_uri": "https://localhost:8080/"
        },
        "id": "bcfCySBNNJKG",
        "outputId": "99d49039-ea8d-475c-d3b8-32bb0c23bd52"
      },
      "outputs": [
        {
          "output_type": "stream",
          "name": "stdout",
          "text": [
            "Mounted at /content/drive/\n",
            "You are in Google CoLaB with torch version 1.11.0+cu113\n",
            ">>>> testing the time formating function............\n",
            ">>>> time elapsed\thrs: 0 mins: 02 secs: 03.00\n"
          ]
        }
      ],
      "source": [
        "from google.colab import drive\n",
        "drive.mount(\"/content/drive/\", force_remount = True)\n",
        "try:\n",
        "  import torch\n",
        "  COLAB = True\n",
        "  print(f\"You are in Google CoLaB with torch version {torch.__version__}\")\n",
        "except Exception as e:\n",
        "  print(f\"{e}: {type(e)}\\n>>>> please correct {type(e)} and reload...\")\n",
        "  COLAB = False\n",
        "if torch.cuda.is_available():\n",
        "  device = torch.device(\"cuda\")\n",
        "else:\n",
        "  device = torch.device(\"cpu\")\n",
        "\n",
        "def __tfmt__(t: float = 123.178)->float:\n",
        "  h = int(t / (60 * 60))\n",
        "  m = int(t % (60 * 60) / 60)\n",
        "  s = int(t % 60)\n",
        "  return f\"hrs: {h} mins: {m:>02} secs: {s:>05.2f}\"\n",
        "print(f\">>>> testing the time formating function............\\n>>>> time elapsed\\t{__tfmt__()}\")\n"
      ]
    },
    {
      "cell_type": "code",
      "source": [
        "# We deploy simple functionality of the Python argparse & regular expression modules:"
      ],
      "metadata": {
        "id": "SRh8hTg9P04V"
      },
      "execution_count": 2,
      "outputs": []
    },
    {
      "cell_type": "code",
      "source": [
        ""
      ],
      "metadata": {
        "id": "VcBGjQp9itna"
      },
      "execution_count": 28,
      "outputs": []
    },
    {
      "cell_type": "code",
      "source": [
        "%%writefile fibonnaci.py\n",
        "def __Fibonacci__(num):\n",
        "  \"\"\"\n",
        "  This method help to compute the fibonacci number\n",
        "  of your choice\n",
        "  \"\"\"\n",
        "  x, y = 0, 1\n",
        "  for k in range(num):\n",
        "    x, y = y, x + y\n",
        "  return x\n",
        "\n",
        "import re \n",
        "def __myreg__(string):\n",
        "  my_match = re.match(\"Jesus Christ\", string, re.M|re.I)\n",
        "  my_search = re.search(\"Jesus Christ\",string, re.M|re.I)\n",
        "  return (my_match, my_search)\n",
        "\n",
        "import argparse\n",
        "def __myparser__():\n",
        "  parser = argparse.ArgumentParser(description = \"Basic use of argument parser\")\n",
        "  group = parser.add_mutually_exclusive_group()\n",
        "  group.add_argument(\"-v\", \"--verbose\", action = \"store_true\", help = \"Control the verbosity of the program\")\n",
        "  group.add_argument(\"-q\", \"--quite\", action = \"store_true\", help = \"Oposite to the verbosity\")\n",
        "  parser.add_argument(\"num\", type = int, help = \"The Fiboacci number of your choice\")\n",
        "  parser.add_argument(\"mystring\", type = str, help = \"The string to process with the RE\")\n",
        "  parser.add_argument(\"-f\", \"--flag\", action = \"store_true\", help = \"This is just a flag!\")\n",
        "  return parser.parse_args()\n",
        "def main():\n",
        "  args = __myparser__()\n",
        "  results = __myreg__(args.mystring)\n",
        "  if args.verbose:\n",
        "    print(f\"The matched results: {results[0]}\\nThe serched results is: {results[1]}\")\n",
        "    print(f\">>>> The {args.num}th fibonacci number is {__Fibonacci__(args.num)}\")  \n",
        "  elif args.quite:\n",
        "    print(f\">>>> match: {results[0]}\\t search: {results[1]}\")\n",
        "    print(f\">>>> {__Fibonacci__(args.num)}\")\n",
        "  else:\n",
        "    print(f\"Give more glory to the holly name of God\")\n",
        "    print(f\">>>> The optional argument is... {args.flag}\")\n",
        "\n",
        "if __name__ == \"__main__\":\n",
        "  main()\n"
      ],
      "metadata": {
        "colab": {
          "base_uri": "https://localhost:8080/"
        },
        "id": "c5rRRBPGbdD2",
        "outputId": "f7b850a1-09a7-4884-81de-916e74cfe992"
      },
      "execution_count": 23,
      "outputs": [
        {
          "output_type": "stream",
          "name": "stdout",
          "text": [
            "Overwriting fibonnaci.py\n"
          ]
        }
      ]
    },
    {
      "cell_type": "code",
      "source": [
        "!python3 fibonnaci.py -h"
      ],
      "metadata": {
        "colab": {
          "base_uri": "https://localhost:8080/"
        },
        "id": "bPDnbSfowo3L",
        "outputId": "03254c44-49c8-4e3b-f810-b4f5b47b5c6e"
      },
      "execution_count": 24,
      "outputs": [
        {
          "output_type": "stream",
          "name": "stdout",
          "text": [
            "usage: fibonnaci.py [-h] [-v | -q] [-f] num mystring\n",
            "\n",
            "Basic use of argument parser\n",
            "\n",
            "positional arguments:\n",
            "  num            The Fiboacci number of your choice\n",
            "  mystring       The string to process with the RE\n",
            "\n",
            "optional arguments:\n",
            "  -h, --help     show this help message and exit\n",
            "  -v, --verbose  Control the verbosity of the program\n",
            "  -q, --quite    Oposite to the verbosity\n",
            "  -f, --flag     This is just a flag!\n"
          ]
        }
      ]
    },
    {
      "cell_type": "code",
      "source": [
        "!python3 fibonnaci.py -v -f 6 \"Hail Jesus Christ, The one and only True God\""
      ],
      "metadata": {
        "colab": {
          "base_uri": "https://localhost:8080/"
        },
        "id": "nAYJKrr7w0Kl",
        "outputId": "6e967d75-1d76-4366-950f-4a7c04a8d2ab"
      },
      "execution_count": 27,
      "outputs": [
        {
          "output_type": "stream",
          "name": "stdout",
          "text": [
            "The matched results: None\n",
            "The serched results is: <re.Match object; span=(5, 17), match='Jesus Christ'>\n",
            ">>>> The 6th fibonacci number is 8\n"
          ]
        }
      ]
    },
    {
      "cell_type": "code",
      "source": [
        ""
      ],
      "metadata": {
        "id": "0V3kvQgMydqo"
      },
      "execution_count": null,
      "outputs": []
    }
  ]
}